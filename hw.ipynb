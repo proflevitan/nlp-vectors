{
 "cells": [
  {
   "cell_type": "code",
   "execution_count": null,
   "metadata": {},
   "outputs": [],
   "source": [
    "!pip install nltk\n",
    "\n",
    "# install any other additional required libraries here"
   ]
  },
  {
   "cell_type": "code",
   "execution_count": null,
   "metadata": {},
   "outputs": [],
   "source": [
    "from  vectors import *"
   ]
  },
  {
   "cell_type": "markdown",
   "metadata": {},
   "source": [
    "### Part I: A) Code B) Explanation\n",
    "\n"
   ]
  },
  {
   "cell_type": "code",
   "execution_count": null,
   "metadata": {},
   "outputs": [],
   "source": [
    "# A) Code goes here:\n",
    "\n",
    "# pick a word in the English language (included in `words.txt`) and compute the distance between 3 other words of your choice\n",
    "# show the initial word, each of the 3 words and their output distances"
   ]
  },
  {
   "cell_type": "markdown",
   "metadata": {},
   "source": [
    "B) \n",
    "\n",
    "Discuss how the resulting distances do or don't follow human intuition. "
   ]
  },
  {
   "cell_type": "markdown",
   "metadata": {},
   "source": [
    "# use this cell for your response (can be Markdown or a comment...)"
   ]
  },
  {
   "cell_type": "code",
   "execution_count": null,
   "metadata": {},
   "outputs": [],
   "source": []
  },
  {
   "cell_type": "markdown",
   "metadata": {},
   "source": [
    "### Part II: A) Code B) Explanation"
   ]
  },
  {
   "cell_type": "code",
   "execution_count": null,
   "metadata": {},
   "outputs": [],
   "source": [
    "# A) Code goes here: \n",
    "\n",
    "# use the \"closest_word\" method to uncover latent relationships between words\n",
    "# write one line of code that demonstrates human intuition about word similarity\n",
    "# refer to the README file for examples from class - do not use examples that we already covered"
   ]
  },
  {
   "cell_type": "markdown",
   "metadata": {},
   "source": [
    "B) \n",
    "\n",
    "Explain your choice of words here - discuss your human intution and how it is validated with the results of running your code above: "
   ]
  },
  {
   "cell_type": "code",
   "execution_count": null,
   "metadata": {},
   "outputs": [],
   "source": [
    "# use this cell for your response (can be Markdown or a comment...)"
   ]
  }
 ],
 "metadata": {
  "kernelspec": {
   "display_name": "Python 3",
   "language": "python",
   "name": "python3"
  },
  "language_info": {
   "codemirror_mode": {
    "name": "ipython",
    "version": 3
   },
   "file_extension": ".py",
   "mimetype": "text/x-python",
   "name": "python",
   "nbconvert_exporter": "python",
   "pygments_lexer": "ipython3",
   "version": "3.10.10"
  }
 },
 "nbformat": 4,
 "nbformat_minor": 2
}
